{
 "cells": [
  {
   "cell_type": "markdown",
   "metadata": {},
   "source": [
    "## Importing "
   ]
  },
  {
   "cell_type": "code",
   "execution_count": 45,
   "metadata": {
    "id": "VfV0KK3-xCf2"
   },
   "outputs": [],
   "source": [
    "# To load pandas\n",
    "import pandas as pd\n",
    "\n",
    "# To load numpy\n",
    "import numpy as np\n",
    "\n",
    "# To import the classifiers\n",
    "from sklearn.naive_bayes import GaussianNB\n",
    "from sklearn.neural_network import MLPClassifier\n",
    "from sklearn.svm import SVC\n",
    "\n",
    "# To measure accuracy\n",
    "from sklearn import metrics\n",
    "from sklearn import model_selection\n",
    "\n",
    "# To import the scalers\n",
    "from sklearn.preprocessing import StandardScaler\n",
    "from sklearn.preprocessing import MinMaxScaler\n",
    "from sklearn.preprocessing import Binarizer\n",
    "\n",
    "# To support plots\n",
    "import matplotlib.pyplot as plt"
   ]
  },
  {
   "cell_type": "code",
   "execution_count": 46,
   "metadata": {
    "id": "lEt6XJ68xUiV"
   },
   "outputs": [],
   "source": [
    "class DummyScaler:    \n",
    "  def fit(self, data):        \n",
    "    pass    \n",
    "  def transform(self, data):        \n",
    "    return data\n",
    "\n",
    "def create_scaler_dummy():    \n",
    "  return DummyScaler()\n",
    "def create_scaler_standard():   \n",
    "  return StandardScaler()\n",
    "def create_scaler_minmax():    \n",
    "  return MinMaxScaler()\n",
    "def crete_scaler_binarizer():    \n",
    "  return Binarizer()\n",
    "\n",
    "#using min max scaler\n",
    "create_scaler = create_scaler_minmax\n"
   ]
  },
  {
   "cell_type": "code",
   "execution_count": 47,
   "metadata": {
    "id": "lP4VwysRyAgl"
   },
   "outputs": [],
   "source": [
    "#defining the SVM model\n",
    "\n",
    "def create_model_svc():\n",
    "  model = SVC(random_state=seed, probability=True,class_weight = 'balanced')\n",
    "  return model\n"
   ]
  },
  {
   "cell_type": "code",
   "execution_count": 48,
   "metadata": {
    "id": "9gHb_SdLyQWI"
   },
   "outputs": [],
   "source": [
    "create_model = create_model_svc"
   ]
  },
  {
   "cell_type": "code",
   "execution_count": 49,
   "metadata": {
    "colab": {
     "base_uri": "https://localhost:8080/",
     "height": 34
    },
    "id": "chQNH6aLyXpi",
    "outputId": "b5ec78af-e365-465c-dd7c-33663ea3ccca"
   },
   "outputs": [
    {
     "name": "stdout",
     "output_type": "stream",
     "text": [
      "Load the data\n"
     ]
    }
   ],
   "source": [
    "seed = 520\n",
    "np.set_printoptions(precision=3)\n",
    "print('Load the data')\n",
    "\n",
    "data = pd.read_csv('https://gist.githubusercontent.com/ktisha/c21e73a1bd1700294ef790c56c8aec1f/raw/819b69b5736821ccee93d05b51de0510bea00294/pima-indians-diabetes.csv', skiprows=9, header=None, names=names)"
   ]
  },
  {
   "cell_type": "code",
   "execution_count": 51,
   "metadata": {
    "colab": {
     "base_uri": "https://localhost:8080/",
     "height": 454
    },
    "id": "k3xcbXD71FKz",
    "outputId": "8a79cb51-eb1e-48b0-9093-16919fee11ef"
   },
   "outputs": [
    {
     "name": "stdout",
     "output_type": "stream",
     "text": [
      "Features:\n",
      "[[  1.     89.     66.    ...  28.1     0.167  21.   ]\n",
      " [  0.    137.     40.    ...  43.1     2.288  33.   ]\n",
      " [  3.     78.     50.    ...  31.      0.248  26.   ]\n",
      " ...\n",
      " [  2.     88.     58.    ...  28.4     0.766  22.   ]\n",
      " [ 10.    101.     76.    ...  32.9     0.171  63.   ]\n",
      " [  5.    121.     72.    ...  26.2     0.245  30.   ]]\n",
      "Targets:\n",
      "[0. 1. 1. 1. 1. 1. 1. 0. 1. 0. 1. 1. 0. 0. 1. 0. 0. 1. 0. 1. 0. 0. 0. 1.\n",
      " 0. 1. 0. 0. 0. 0. 0. 1. 0. 0. 0. 0. 0. 1. 0. 0. 0. 0. 0. 0. 1. 0. 0. 0.\n",
      " 0. 1. 1. 1. 0. 1. 0. 1. 0. 1. 0. 0. 1. 1. 1. 0. 0. 0. 0. 0. 0. 0. 0. 0.\n",
      " 1. 0. 0. 0. 0. 1. 0. 0. 1. 0. 1. 0. 0. 1. 1. 0. 1. 1. 1. 1. 0. 1. 1. 1.\n",
      " 1. 0. 0. 1. 0. 1. 1. 1. 1. 0. 1. 0. 0. 0. 0. 0. 1. 0. 0. 1. 0. 1. 0. 0.\n",
      " 0. 0. 1. 0. 1. 0. 0. 0. 0. 0. 0. 0. 0. 0. 0. 0. 1. 0. 0. 0. 1. 1. 1. 0.\n",
      " 1. 0. 1. 1. 0. 0. 1. 0. 1. 1. 0. 1. 0. 0. 0. 0. 0. 1. 0. 1. 1. 0. 0. 0.\n",
      " 0. 1. 0. 0. 0. 0. 0. 0. 1. 0. 1. 1. 0. 0. 0. 1. 1. 0. 0. 0. 1. 0. 0. 0.\n",
      " 0. 0. 0. 0. 0. 1. 0. 0. 0. 0. 0. 0. 1. 0. 1. 0. 0. 0. 1. 1. 1. 0. 0. 0.\n",
      " 1. 1. 1. 0. 1. 0. 0. 0. 0. 1. 0. 0. 1. 0. 0. 0. 0. 0. 1. 0. 0. 0. 0. 0.\n",
      " 0. 0. 1. 0. 0. 1. 0. 0. 1. 0. 0. 0. 1. 0. 1. 0. 0. 0. 1. 0. 0. 0. 0. 1.\n",
      " 1. 0. 0. 0. 0. 0. 0. 0. 0. 0. 0. 1. 1. 1. 0. 0. 1. 1. 0. 0. 0. 0. 0. 0.\n",
      " 1. 0. 0. 0. 0. 0. 0. 1. 0. 0. 0. 0. 0. 1. 1. 0. 0. 0. 1. 0. 0. 1. 1. 0.\n",
      " 0. 0. 0. 1. 1. 1. 0. 0. 0. 0. 0. 0. 0. 1. 0. 0. 0. 0. 1. 1. 1. 0. 0. 0.\n",
      " 0. 1. 0. 0. 1. 1. 1. 0. 0. 0. 0. 0. 0. 0. 0. 0. 0. 0. 1. 0. 1. 1. 1. 0.\n",
      " 0. 0. 0. 1. 0. 0. 0. 1. 1. 0. 0. 1. 0. 0. 1. 1. 0. 0. 0. 1. 0. 0. 0. 0.\n",
      " 0. 1. 0. 1. 1. 0. 0. 0.]\n"
     ]
    }
   ],
   "source": [
    "print('Features:')\n",
    "print(X)\n",
    "print('Targets:')\n",
    "print(y)"
   ]
  },
  {
   "cell_type": "markdown",
   "metadata": {},
   "source": [
    "## Simple SVM Model"
   ]
  },
  {
   "cell_type": "code",
   "execution_count": 52,
   "metadata": {
    "colab": {
     "base_uri": "https://localhost:8080/",
     "height": 34
    },
    "id": "bm-j_5HA1PjU",
    "outputId": "dfe5a1b3-0d1a-4684-f30d-a4134d0fbd95"
   },
   "outputs": [
    {
     "name": "stdout",
     "output_type": "stream",
     "text": [
      "Train the model and predict\n"
     ]
    }
   ],
   "source": [
    "\n",
    "print('Train the model and predict')\n",
    "scaler = create_scaler()\n",
    "model = create_model()\n",
    "model.fit(X, y)\n",
    "y_hat = model.predict(X)\n"
   ]
  },
  {
   "cell_type": "code",
   "execution_count": 53,
   "metadata": {
    "colab": {
     "base_uri": "https://localhost:8080/",
     "height": 302
    },
    "id": "fNFLHcNv1Zyd",
    "outputId": "9e184f25-ab85-4113-f31e-5f63c6d2e3e4"
   },
   "outputs": [
    {
     "name": "stdout",
     "output_type": "stream",
     "text": [
      "Model evaluation (train)\n",
      "Accuracy:\n",
      "0.7525510204081632\n",
      "Classification report:\n",
      "              precision    recall  f1-score   support\n",
      "\n",
      "         0.0       0.88      0.73      0.80       262\n",
      "         1.0       0.59      0.81      0.68       130\n",
      "\n",
      "    accuracy                           0.75       392\n",
      "   macro avg       0.74      0.77      0.74       392\n",
      "weighted avg       0.79      0.75      0.76       392\n",
      "\n",
      "Predicted  0.0  1.0\n",
      "Actual             \n",
      "0.0        190   72\n",
      "1.0         25  105\n"
     ]
    }
   ],
   "source": [
    "\n",
    "print('Model evaluation (train)')\n",
    "print('Accuracy:')\n",
    "print(metrics.accuracy_score(y, y_hat))\n",
    "print('Classification report:')\n",
    "print(metrics.classification_report(y, y_hat))\n",
    "cm = pd.crosstab(y, y_hat, rownames=['Actual'], colnames=['Predicted'])\n",
    "print (cm)"
   ]
  },
  {
   "cell_type": "markdown",
   "metadata": {},
   "source": [
    "## Cross-validation"
   ]
  },
  {
   "cell_type": "code",
   "execution_count": 54,
   "metadata": {
    "colab": {
     "base_uri": "https://localhost:8080/",
     "height": 319
    },
    "id": "HzfY-W1H2Qga",
    "outputId": "6fd94044-d52b-492b-b551-8456f47cdcce"
   },
   "outputs": [
    {
     "name": "stdout",
     "output_type": "stream",
     "text": [
      "Cross-validation\n",
      "Model evaluation (CV)\n",
      "Accuracy:\n",
      "0.7627551020408163\n",
      "Classification report:\n",
      "              precision    recall  f1-score   support\n",
      "\n",
      "         0.0       0.86      0.77      0.81       262\n",
      "         1.0       0.62      0.74      0.67       130\n",
      "\n",
      "    accuracy                           0.76       392\n",
      "   macro avg       0.74      0.76      0.74       392\n",
      "weighted avg       0.78      0.76      0.77       392\n",
      "\n",
      "Predicted  0.0  1.0\n",
      "Actual             \n",
      "0.0        203   59\n",
      "1.0         34   96\n"
     ]
    }
   ],
   "source": [
    "\n",
    "print('Cross-validation')\n",
    "np.random.seed(seed)\n",
    "y_prob = np.zeros(y.shape)\n",
    "y_hat = np.zeros(y.shape)\n",
    "kfold = model_selection.KFold(n_splits=5, shuffle=True, random_state=seed)\n",
    "\n",
    "# Cross-validation\n",
    "for train, test in kfold.split(X, y):\n",
    "  scaler.fit(X[train])\n",
    "  X_train = scaler.transform(X[train])\n",
    "  X_test = scaler.transform(X[test])\n",
    "\n",
    "  model = create_model()\n",
    "  model.fit(X_train, y[train])\n",
    "\n",
    "  y_prob[test] = model.predict_proba(X_test)[:, 1]\n",
    "  y_hat[test] = model.predict(X_test)\n",
    "\n",
    "print('Model evaluation (CV)')\n",
    "print('Accuracy:')\n",
    "print(metrics.accuracy_score(y, y_hat))\n",
    "print('Classification report:')\n",
    "print(metrics.classification_report(y, y_hat))\n",
    "cm = pd.crosstab(y, y_hat, rownames=['Actual'], colnames=['Predicted'])\n",
    "print (cm)\n"
   ]
  },
  {
   "cell_type": "markdown",
   "metadata": {},
   "source": [
    "## Grid search for hyperparameters"
   ]
  },
  {
   "cell_type": "code",
   "execution_count": 59,
   "metadata": {
    "colab": {
     "base_uri": "https://localhost:8080/",
     "height": 302
    },
    "id": "MS81NsQK3bMi",
    "outputId": "90ebe517-f753-48ec-cc73-779afbd86df3"
   },
   "outputs": [
    {
     "name": "stdout",
     "output_type": "stream",
     "text": [
      "Grid Search for Hyperparameters\n",
      "Optimal parameters: {'C': 1.0, 'gamma': 1e-06}\n",
      "Model evaluation (Optimal Hyperparameters)\n",
      "Accuracy:\n",
      "0.8607594936708861\n",
      "Classification report:\n",
      "              precision    recall  f1-score   support\n",
      "\n",
      "         0.0       0.94      0.85      0.89        53\n",
      "         1.0       0.74      0.88      0.81        26\n",
      "\n",
      "    accuracy                           0.86        79\n",
      "   macro avg       0.84      0.87      0.85        79\n",
      "weighted avg       0.87      0.86      0.86        79\n",
      "\n"
     ]
    },
    {
     "name": "stderr",
     "output_type": "stream",
     "text": [
      "/usr/local/lib/python3.6/dist-packages/sklearn/model_selection/_search.py:823: FutureWarning: The parameter 'iid' is deprecated in 0.22 and will be removed in 0.24.\n",
      "  \"removed in 0.24.\", FutureWarning\n"
     ]
    }
   ],
   "source": [
    "print('Grid Search for Hyperparameters')\n",
    "X_train, X_test, y_train, y_test = model_selection.train_test_split(X, y, test_size=0.2, random_state=520)\n",
    "scaler = create_scaler()\n",
    "scaler.fit(X_train)\n",
    "X_train = scaler.transform(X_train)\n",
    "X_test = scaler.transform(X_test)\n",
    "# Here we should use specific classifier, because of the parameters\n",
    "model = model_selection.GridSearchCV(SVC(kernel='linear', random_state=200, probability=True,class_weight='balanced'), \n",
    "                                     cv=5,                        \n",
    "                                     n_jobs=-1,                         \n",
    "                                     iid=True,                         \n",
    "                                     param_grid={                             \n",
    "                                         'C': [1**x for x in range(-3, 4)],                             \n",
    "                                         'gamma': [100**x for x in range(-3, 4)]                         \n",
    "                                         })\n",
    "\n",
    "model.fit(X_train, y_train)\n",
    "print('Optimal parameters:', model.best_params_)\n",
    "y_test_hat = model.predict(X_test)\n",
    "y_test_prob = model.predict_proba(X_test)[:, 1]\n",
    "print('Model evaluation (Optimal Hyperparameters)')\n",
    "print('Accuracy:')\n",
    "print(metrics.accuracy_score(y_test, y_test_hat))\n",
    "print('Classification report:')\n",
    "print(metrics.classification_report(y_test, y_test_hat))"
   ]
  },
  {
   "cell_type": "code",
   "execution_count": 56,
   "metadata": {
    "colab": {
     "base_uri": "https://localhost:8080/",
     "height": 84
    },
    "id": "4VUluKAi6yd3",
    "outputId": "25362351-8b29-4b1e-c8c1-2de90242aef2"
   },
   "outputs": [
    {
     "name": "stdout",
     "output_type": "stream",
     "text": [
      "Predicted  0.0  1.0\n",
      "Actual             \n",
      "0.0         45    8\n",
      "1.0          3   23\n"
     ]
    }
   ],
   "source": [
    "cm = pd.crosstab(y_test, y_test_hat, rownames=['Actual'], colnames=['Predicted'])\n",
    "print (cm)\n"
   ]
  }
 ],
 "metadata": {
  "colab": {
   "name": "SVM.ipynb",
   "provenance": []
  },
  "kernelspec": {
   "display_name": "Python 3",
   "language": "python",
   "name": "python3"
  },
  "language_info": {
   "codemirror_mode": {
    "name": "ipython",
    "version": 3
   },
   "file_extension": ".py",
   "mimetype": "text/x-python",
   "name": "python",
   "nbconvert_exporter": "python",
   "pygments_lexer": "ipython3",
   "version": "3.8.3"
  }
 },
 "nbformat": 4,
 "nbformat_minor": 1
}
